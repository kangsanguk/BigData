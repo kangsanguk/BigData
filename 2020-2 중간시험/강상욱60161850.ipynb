{
 "cells": [
  {
   "cell_type": "markdown",
   "metadata": {},
   "source": [
    "# 총 5문제, 문제당 배점 4점, 총 20점 만점임\n",
    "## 문제 1, 2번은 SQL을 사용하고, 나머지 문제는 PYTHON을 사용하시오.\n",
    "## 문제풀이에 사용되는 data set은 반드시 문제와 함께 제공되는 자료를 사용하여야 함.\n",
    "## LMS에 답안 업로드시 설령 오류가 났다하더라도 반드시 출력을 포함하여 올리시오. 출력이 안달려 있으면 감점처리함\n",
    "## Weather2.db를 이용하여 아래 두개의 sql 문제를 푸시오. Weather.db가 아니고 Weather2.db를 사용해야 함."
   ]
  },
  {
   "cell_type": "code",
   "execution_count": 3,
   "metadata": {},
   "outputs": [],
   "source": [
    "%load_ext sql\n",
    "%sql sqlite:///Weather2.db"
   ]
  },
  {
   "cell_type": "markdown",
   "metadata": {},
   "source": [
    "## 문제 1 [SQL]\n",
    "Regions table에서 coastal이 'Y'인 행의 갯수와 'N'인 행의 갯수를 구하고 행의 갯수의 오름차순으로 출력하시오. 1개의 Query만 사용하고 어떤 갯수가 'Y'의 갯수이고 'N'의 갯수인지 명확히 출력하여야 함"
   ]
  },
  {
   "cell_type": "code",
   "execution_count": 4,
   "metadata": {},
   "outputs": [
    {
     "name": "stdout",
     "output_type": "stream",
     "text": [
      " * sqlite:///Weather2.db\n",
      "Done.\n"
     ]
    },
    {
     "data": {
      "text/html": [
       "<table>\n",
       "    <tr>\n",
       "        <th>coastal</th>\n",
       "        <th>count</th>\n",
       "    </tr>\n",
       "    <tr>\n",
       "        <td>Y</td>\n",
       "        <td>19</td>\n",
       "    </tr>\n",
       "    <tr>\n",
       "        <td>N</td>\n",
       "        <td>24</td>\n",
       "    </tr>\n",
       "</table>"
      ],
      "text/plain": [
       "[('Y', 19), ('N', 24)]"
      ]
     },
     "execution_count": 4,
     "metadata": {},
     "output_type": "execute_result"
    }
   ],
   "source": [
    "%%sql\n",
    "Select coastal,count(coastal) as count\n",
    "From Regions\n",
    "Group by coastal\n",
    "Order by count(coastal)"
   ]
  },
  {
   "cell_type": "markdown",
   "metadata": {},
   "source": [
    "## 문제 2 [SQL]\n",
    "1. 강의시간에 배운 두 table에 대한 Join은 where clause에 두 table이 공유하는 열이 서로 같다는 조건을 줌으로써 이루어 졌음.\n",
    "1. sql에서는 join을 위해 where clause에 조건을 줄 필요가 없는(where clause를 사용할 필요가 없는) inner join이라는 기능을 제공하고 있음. 이 기능을 이용하여  CityTemps table에 Regions table을 병합하고, 모든 region과 coastal의 combination에 대하여 lat의 최소값과 lng의 최소값을 출력하시오. inner join 기능을 어떻게 사용하는지는 구글 검색 등을 이용하여 찾아내시오.\n",
    "1. 1개의 Query만 사용하여 문제를 푸시오."
   ]
  },
  {
   "cell_type": "code",
   "execution_count": 5,
   "metadata": {},
   "outputs": [
    {
     "name": "stdout",
     "output_type": "stream",
     "text": [
      " * sqlite:///Weather2.db\n",
      "Done.\n"
     ]
    },
    {
     "data": {
      "text/html": [
       "<table>\n",
       "    <tr>\n",
       "        <th>region</th>\n",
       "        <th>coastal</th>\n",
       "        <th>min(lat)</th>\n",
       "        <th>min(lng)</th>\n",
       "    </tr>\n",
       "    <tr>\n",
       "        <td>Midatlantic</td>\n",
       "        <td>N</td>\n",
       "        <td>40.9</td>\n",
       "        <td>75.5</td>\n",
       "    </tr>\n",
       "    <tr>\n",
       "        <td>Midatlantic</td>\n",
       "        <td>Y</td>\n",
       "        <td>39.8</td>\n",
       "        <td>73.7</td>\n",
       "    </tr>\n",
       "    <tr>\n",
       "        <td>Mountain</td>\n",
       "        <td>N</td>\n",
       "        <td>33.6</td>\n",
       "        <td>104.9</td>\n",
       "    </tr>\n",
       "    <tr>\n",
       "        <td>Northcentral</td>\n",
       "        <td>N</td>\n",
       "        <td>38.1</td>\n",
       "        <td>82.5</td>\n",
       "    </tr>\n",
       "    <tr>\n",
       "        <td>Northeast</td>\n",
       "        <td>N</td>\n",
       "        <td>45.0</td>\n",
       "        <td>73.9</td>\n",
       "    </tr>\n",
       "    <tr>\n",
       "        <td>Northeast</td>\n",
       "        <td>Y</td>\n",
       "        <td>41.7</td>\n",
       "        <td>70.5</td>\n",
       "    </tr>\n",
       "    <tr>\n",
       "        <td>Pacific</td>\n",
       "        <td>Y</td>\n",
       "        <td>45.6</td>\n",
       "        <td>117.9</td>\n",
       "    </tr>\n",
       "    <tr>\n",
       "        <td>Southatlantic</td>\n",
       "        <td>Y</td>\n",
       "        <td>25.0</td>\n",
       "        <td>76.3</td>\n",
       "    </tr>\n",
       "    <tr>\n",
       "        <td>Southcentral</td>\n",
       "        <td>N</td>\n",
       "        <td>35.4</td>\n",
       "        <td>86.5</td>\n",
       "    </tr>\n",
       "    <tr>\n",
       "        <td>Southcentral</td>\n",
       "        <td>Y</td>\n",
       "        <td>29.4</td>\n",
       "        <td>86.8</td>\n",
       "    </tr>\n",
       "</table>"
      ],
      "text/plain": [
       "[('Midatlantic', 'N', 40.9, 75.5),\n",
       " ('Midatlantic', 'Y', 39.8, 73.7),\n",
       " ('Mountain', 'N', 33.6, 104.9),\n",
       " ('Northcentral', 'N', 38.1, 82.5),\n",
       " ('Northeast', 'N', 45.0, 73.9),\n",
       " ('Northeast', 'Y', 41.7, 70.5),\n",
       " ('Pacific', 'Y', 45.6, 117.9),\n",
       " ('Southatlantic', 'Y', 25.0, 76.3),\n",
       " ('Southcentral', 'N', 35.4, 86.5),\n",
       " ('Southcentral', 'Y', 29.4, 86.8)]"
      ]
     },
     "execution_count": 5,
     "metadata": {},
     "output_type": "execute_result"
    }
   ],
   "source": [
    "%%sql\n",
    "Select region,coastal,min(lat),min(lng)\n",
    "From CityTemps C \n",
    "INNER JOIN Regions R\n",
    "On R.state=C.state\n",
    "Group by region,coastal"
   ]
  },
  {
   "cell_type": "markdown",
   "metadata": {},
   "source": [
    "## 문제 3 [PYTHON]\n",
    "CityTemps.csv와 Regions.tsv를 각각 df1과 df2라는 dataframe으로 읽어 들이시오. 그후 df1에 df2를 pandas의 merge 함수를 이용하여 병합하고, groupby 함수를 이용하여 region과 coastal의 combination을 만들고 lat과 lng의 최소값을 출력하시오. 문제 2번의 sql문제와 똑같은 답이 나와야 함."
   ]
  },
  {
   "cell_type": "code",
   "execution_count": 2,
   "metadata": {},
   "outputs": [
    {
     "data": {
      "text/html": [
       "<div>\n",
       "<style scoped>\n",
       "    .dataframe tbody tr th:only-of-type {\n",
       "        vertical-align: middle;\n",
       "    }\n",
       "\n",
       "    .dataframe tbody tr th {\n",
       "        vertical-align: top;\n",
       "    }\n",
       "\n",
       "    .dataframe thead th {\n",
       "        text-align: right;\n",
       "    }\n",
       "</style>\n",
       "<table border=\"1\" class=\"dataframe\">\n",
       "  <thead>\n",
       "    <tr style=\"text-align: right;\">\n",
       "      <th></th>\n",
       "      <th>region</th>\n",
       "      <th>coastal</th>\n",
       "      <th>lat</th>\n",
       "      <th>lng</th>\n",
       "    </tr>\n",
       "  </thead>\n",
       "  <tbody>\n",
       "    <tr>\n",
       "      <th>0</th>\n",
       "      <td>Midatlantic</td>\n",
       "      <td>N</td>\n",
       "      <td>40.9</td>\n",
       "      <td>75.5</td>\n",
       "    </tr>\n",
       "    <tr>\n",
       "      <th>1</th>\n",
       "      <td>Midatlantic</td>\n",
       "      <td>Y</td>\n",
       "      <td>39.8</td>\n",
       "      <td>73.7</td>\n",
       "    </tr>\n",
       "    <tr>\n",
       "      <th>2</th>\n",
       "      <td>Mountain</td>\n",
       "      <td>N</td>\n",
       "      <td>33.6</td>\n",
       "      <td>104.9</td>\n",
       "    </tr>\n",
       "    <tr>\n",
       "      <th>3</th>\n",
       "      <td>Northcentral</td>\n",
       "      <td>N</td>\n",
       "      <td>38.1</td>\n",
       "      <td>82.5</td>\n",
       "    </tr>\n",
       "    <tr>\n",
       "      <th>4</th>\n",
       "      <td>Northeast</td>\n",
       "      <td>N</td>\n",
       "      <td>45.0</td>\n",
       "      <td>73.9</td>\n",
       "    </tr>\n",
       "    <tr>\n",
       "      <th>5</th>\n",
       "      <td>Northeast</td>\n",
       "      <td>Y</td>\n",
       "      <td>41.7</td>\n",
       "      <td>70.5</td>\n",
       "    </tr>\n",
       "    <tr>\n",
       "      <th>6</th>\n",
       "      <td>Pacific</td>\n",
       "      <td>Y</td>\n",
       "      <td>34.3</td>\n",
       "      <td>117.9</td>\n",
       "    </tr>\n",
       "    <tr>\n",
       "      <th>7</th>\n",
       "      <td>Southatlantic</td>\n",
       "      <td>Y</td>\n",
       "      <td>25.0</td>\n",
       "      <td>76.3</td>\n",
       "    </tr>\n",
       "    <tr>\n",
       "      <th>8</th>\n",
       "      <td>Southcentral</td>\n",
       "      <td>N</td>\n",
       "      <td>35.4</td>\n",
       "      <td>86.5</td>\n",
       "    </tr>\n",
       "    <tr>\n",
       "      <th>9</th>\n",
       "      <td>Southcentral</td>\n",
       "      <td>Y</td>\n",
       "      <td>29.4</td>\n",
       "      <td>86.8</td>\n",
       "    </tr>\n",
       "  </tbody>\n",
       "</table>\n",
       "</div>"
      ],
      "text/plain": [
       "          region coastal   lat    lng\n",
       "0    Midatlantic       N  40.9   75.5\n",
       "1    Midatlantic       Y  39.8   73.7\n",
       "2       Mountain       N  33.6  104.9\n",
       "3   Northcentral       N  38.1   82.5\n",
       "4      Northeast       N  45.0   73.9\n",
       "5      Northeast       Y  41.7   70.5\n",
       "6        Pacific       Y  34.3  117.9\n",
       "7  Southatlantic       Y  25.0   76.3\n",
       "8   Southcentral       N  35.4   86.5\n",
       "9   Southcentral       Y  29.4   86.8"
      ]
     },
     "execution_count": 2,
     "metadata": {},
     "output_type": "execute_result"
    }
   ],
   "source": [
    "import pandas as pd\n",
    "df1 = pd.read_csv(\"CityTemps.csv\")\n",
    "df2 = pd.read_csv(\"Regions.tsv\",sep='\\t')\n",
    "df = df1.merge(df2,on='state')\n",
    "group=df.groupby(by=['region','coastal'],as_index=False).min()\n",
    "group[['region','coastal','lat','lng']]"
   ]
  },
  {
   "cell_type": "markdown",
   "metadata": {},
   "source": [
    "## 문제 4 [PYTHON]\n",
    "CityTemps.csv를 dictionary 형태로 읽어들여 cities라는 이름의 list에 넣으시오. cities에 있는 dictionary들중 마지막에서 세번째 있는 dictionary를 출력하고, 또한 가장 마지막에 있는 dictionary의 temp값도 출력하시오."
   ]
  },
  {
   "cell_type": "code",
   "execution_count": 7,
   "metadata": {},
   "outputs": [
    {
     "name": "stdout",
     "output_type": "stream",
     "text": [
      "OrderedDict([('city', 'Madison'), ('state', 'Wisconsin'), ('lat', '43.4'), ('lng', '90.2'), ('temp', '9')])\n",
      "temp =  14\n"
     ]
    }
   ],
   "source": [
    "import csv\n",
    "cities = []\n",
    "with open('CityTemps.csv', 'r') as my_temps_file:\n",
    "    my_temps_reader = csv.DictReader(my_temps_file)\n",
    "    for row in my_temps_reader:\n",
    "        cities.append(row)\n",
    "print(cities[-3])\n",
    "print(\"temp = \", cities[-1]['temp'])"
   ]
  },
  {
   "cell_type": "markdown",
   "metadata": {},
   "source": [
    "## 문제 5 [PYTHON]\n",
    "property data2.csv에는 standard/non-standard/unexpected missing value가 섞여있다. 이 세가지의 모든 missing value를 한번에 NULL로 인식하면서 읽어들여 dataframe df에 저장하고 각 열별 NULL의 갯수를 출력하시오. \n",
    "### property data.csv가 아니고 property data2.csv를 사용해야 합니다"
   ]
  },
  {
   "cell_type": "code",
   "execution_count": 9,
   "metadata": {},
   "outputs": [
    {
     "data": {
      "text/plain": [
       "PID             1\n",
       "ST_NUM          1\n",
       "ST_NAME         0\n",
       "OWN_OCCUPIED    1\n",
       "NUM_BEDROOMS    3\n",
       "NUM_BATH        2\n",
       "SQ_FT           2\n",
       "dtype: int64"
      ]
     },
     "execution_count": 9,
     "metadata": {},
     "output_type": "execute_result"
    }
   ],
   "source": [
    "import pandas as pd\n",
    "missing_values = [\"NAN\", \"?? \", \"10203\"]\n",
    "df = pd.read_csv(\"property data2.csv\", na_values = missing_values)\n",
    "df.isnull().sum()"
   ]
  }
 ],
 "metadata": {
  "kernelspec": {
   "display_name": "Python 3",
   "language": "python",
   "name": "python3"
  },
  "language_info": {
   "codemirror_mode": {
    "name": "ipython",
    "version": 3
   },
   "file_extension": ".py",
   "mimetype": "text/x-python",
   "name": "python",
   "nbconvert_exporter": "python",
   "pygments_lexer": "ipython3",
   "version": "3.7.1"
  }
 },
 "nbformat": 4,
 "nbformat_minor": 4
}
