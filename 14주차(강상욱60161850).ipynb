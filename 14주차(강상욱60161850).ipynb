{
 "cells": [
  {
   "cell_type": "markdown",
   "metadata": {},
   "source": [
    "## [출석인정용과제] - R 프로그램\n",
    "\n",
    "iris data를 Species별로 grouping하고 Species별 Sepal.Length의 최대값을 구하고 그들을 내림차순으로 정렬하여 출력하시오. R의 PIPE operator를 이용하여 프로그램하시오."
   ]
  },
  {
   "cell_type": "code",
   "execution_count": 6,
   "metadata": {},
   "outputs": [
    {
     "data": {
      "text/html": [
       "<table>\n",
       "<thead><tr><th scope=col>Species</th><th scope=col>Sepal.Length.max</th></tr></thead>\n",
       "<tbody>\n",
       "\t<tr><td>virginica </td><td>7.9       </td></tr>\n",
       "\t<tr><td>versicolor</td><td>7.0       </td></tr>\n",
       "\t<tr><td>setosa    </td><td>5.8       </td></tr>\n",
       "</tbody>\n",
       "</table>\n"
      ],
      "text/latex": [
       "\\begin{tabular}{r|ll}\n",
       " Species & Sepal.Length.max\\\\\n",
       "\\hline\n",
       "\t virginica  & 7.9       \\\\\n",
       "\t versicolor & 7.0       \\\\\n",
       "\t setosa     & 5.8       \\\\\n",
       "\\end{tabular}\n"
      ],
      "text/markdown": [
       "\n",
       "| Species | Sepal.Length.max |\n",
       "|---|---|\n",
       "| virginica  | 7.9        |\n",
       "| versicolor | 7.0        |\n",
       "| setosa     | 5.8        |\n",
       "\n"
      ],
      "text/plain": [
       "  Species    Sepal.Length.max\n",
       "1 virginica  7.9             \n",
       "2 versicolor 7.0             \n",
       "3 setosa     5.8             "
      ]
     },
     "metadata": {},
     "output_type": "display_data"
    }
   ],
   "source": [
    "library(dplyr)\n",
    "iris %>%\n",
    "group_by(Species)%>%\n",
    "summarise(Sepal.Length.max=max(Sepal.Length))%>%\n",
    "arrange(desc(Sepal.Length.max))"
   ]
  }
 ],
 "metadata": {
  "kernelspec": {
   "display_name": "R",
   "language": "R",
   "name": "ir"
  },
  "language_info": {
   "codemirror_mode": "r",
   "file_extension": ".r",
   "mimetype": "text/x-r-source",
   "name": "R",
   "pygments_lexer": "r",
   "version": "3.6.1"
  }
 },
 "nbformat": 4,
 "nbformat_minor": 4
}
