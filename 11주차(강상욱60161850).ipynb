{
 "cells": [
  {
   "cell_type": "markdown",
   "metadata": {},
   "source": [
    "## [출석인정용과제]\n",
    "\n",
    "CityTemps.csv를 읽어들이면서 lat과 lng 열을 각각 별도의 list인 lats와 lngs로 만드시오. "
   ]
  },
  {
   "cell_type": "code",
   "execution_count": 7,
   "metadata": {},
   "outputs": [],
   "source": [
    "%matplotlib inline   \n",
    "import csv\n",
    "import numpy as np\n",
    "import matplotlib.pyplot as plt\n",
    "lats=[]\n",
    "lngs=[]\n",
    "with open('CityTemps.csv', 'r') as data:\n",
    "    reader = csv.reader(data)\n",
    "    next(reader)\n",
    "    for row in reader:\n",
    "        lats.append(float(row[2]))\n",
    "        lngs.append(float(row[3]))"
   ]
  },
  {
   "cell_type": "markdown",
   "metadata": {},
   "source": [
    "## [학점취득용과제]\n",
    "lats를 입력변수, lngs를 출력변수로 하여 linear regression하시오. (lat, lng)의 scatter diagram을 그리고 그 위에 중첩해서 liner regression 결과를 그리시오. lats가 x 축이고, lngs가 y축임."
   ]
  },
  {
   "cell_type": "code",
   "execution_count": 8,
   "metadata": {},
   "outputs": [
    {
     "data": {
      "image/png": "[encoded data removed]",
      "text/plain": [
       "<Figure size 432x288 with 1 Axes>"
      ]
     },
     "metadata": {
      "needs_background": "light"
     },
     "output_type": "display_data"
    }
   ],
   "source": [
    "a,b = np.polyfit(lats, lngs, 1)\n",
    "plt.plot(lats,lngs,'o')\n",
    "plt.plot([min(lats), max(lats)], [a*min(lats)+b, a*max(lats)+b], color='red'\n",
    "         , linewidth=2, linestyle='-.')\n",
    "plt.show()"
   ]
  }
 ],
 "metadata": {
  "kernelspec": {
   "display_name": "Python 3",
   "language": "python",
   "name": "python3"
  },
  "language_info": {
   "codemirror_mode": {
    "name": "ipython",
    "version": 3
   },
   "file_extension": ".py",
   "mimetype": "text/x-python",
   "name": "python",
   "nbconvert_exporter": "python",
   "pygments_lexer": "ipython3",
   "version": "3.7.1"
  }
 },
 "nbformat": 4,
 "nbformat_minor": 4
}
